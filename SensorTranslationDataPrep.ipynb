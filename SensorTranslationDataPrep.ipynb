{
  "nbformat": 4,
  "nbformat_minor": 0,
  "metadata": {
    "colab": {
      "name": "SensorTranslationDataPrep.ipynb",
      "provenance": [],
      "collapsed_sections": [],
      "include_colab_link": true
    },
    "kernelspec": {
      "name": "python3",
      "display_name": "Python 3"
    }
  },
  "cells": [
    {
      "cell_type": "markdown",
      "metadata": {
        "id": "view-in-github",
        "colab_type": "text"
      },
      "source": [
        "<a href=\"https://colab.research.google.com/github/tanvir362/SensorTranslation/blob/master/SensorTranslationDataPrep.ipynb\" target=\"_parent\"><img src=\"https://colab.research.google.com/assets/colab-badge.svg\" alt=\"Open In Colab\"/></a>"
      ]
    },
    {
      "cell_type": "code",
      "metadata": {
        "id": "AZs-a4d-3fV6",
        "colab_type": "code",
        "outputId": "2e585464-82df-4ebb-9639-dabec2d26787",
        "colab": {
          "base_uri": "https://localhost:8080/",
          "height": 125
        }
      },
      "source": [
        "from google.colab import drive\n",
        "drive.mount('/content/drive')"
      ],
      "execution_count": 0,
      "outputs": [
        {
          "output_type": "stream",
          "text": [
            "Go to this URL in a browser: https://accounts.google.com/o/oauth2/auth?client_id=947318989803-6bn6qk8qdgf4n4g3pfee6491hc0brc4i.apps.googleusercontent.com&redirect_uri=urn%3Aietf%3Awg%3Aoauth%3A2.0%3Aoob&scope=email%20https%3A%2F%2Fwww.googleapis.com%2Fauth%2Fdocs.test%20https%3A%2F%2Fwww.googleapis.com%2Fauth%2Fdrive%20https%3A%2F%2Fwww.googleapis.com%2Fauth%2Fdrive.photos.readonly%20https%3A%2F%2Fwww.googleapis.com%2Fauth%2Fpeopleapi.readonly&response_type=code\n",
            "\n",
            "Enter your authorization code:\n",
            "··········\n",
            "Mounted at /content/drive\n"
          ],
          "name": "stdout"
        }
      ]
    },
    {
      "cell_type": "code",
      "metadata": {
        "id": "Kbe5jjPj30zW",
        "colab_type": "code",
        "outputId": "0f4e2746-fdfa-435c-993f-ce077c76bcb5",
        "colab": {
          "base_uri": "https://localhost:8080/",
          "height": 197
        }
      },
      "source": [
        "import pandas as pd\n",
        "import numpy as np\n",
        "cpath = \"/content/drive/My Drive/Colab Notebooks/SensorTranslation/\"\n",
        "\n",
        "data = pd.read_csv(cpath+\"S_T_Data.csv\", index_col=False)\n",
        "data.head()"
      ],
      "execution_count": 0,
      "outputs": [
        {
          "output_type": "execute_result",
          "data": {
            "text/html": [
              "<div>\n",
              "<style scoped>\n",
              "    .dataframe tbody tr th:only-of-type {\n",
              "        vertical-align: middle;\n",
              "    }\n",
              "\n",
              "    .dataframe tbody tr th {\n",
              "        vertical-align: top;\n",
              "    }\n",
              "\n",
              "    .dataframe thead th {\n",
              "        text-align: right;\n",
              "    }\n",
              "</style>\n",
              "<table border=\"1\" class=\"dataframe\">\n",
              "  <thead>\n",
              "    <tr style=\"text-align: right;\">\n",
              "      <th></th>\n",
              "      <th>Temperature</th>\n",
              "      <th>DewPoint</th>\n",
              "      <th>WindSpeed</th>\n",
              "      <th>Pressure</th>\n",
              "      <th>Humidity</th>\n",
              "    </tr>\n",
              "  </thead>\n",
              "  <tbody>\n",
              "    <tr>\n",
              "      <th>0</th>\n",
              "      <td>47</td>\n",
              "      <td>46</td>\n",
              "      <td>0</td>\n",
              "      <td>29.27</td>\n",
              "      <td>0.95</td>\n",
              "    </tr>\n",
              "    <tr>\n",
              "      <th>1</th>\n",
              "      <td>47</td>\n",
              "      <td>46</td>\n",
              "      <td>0</td>\n",
              "      <td>29.26</td>\n",
              "      <td>0.95</td>\n",
              "    </tr>\n",
              "    <tr>\n",
              "      <th>2</th>\n",
              "      <td>47</td>\n",
              "      <td>46</td>\n",
              "      <td>0</td>\n",
              "      <td>29.31</td>\n",
              "      <td>0.95</td>\n",
              "    </tr>\n",
              "    <tr>\n",
              "      <th>3</th>\n",
              "      <td>64</td>\n",
              "      <td>52</td>\n",
              "      <td>0</td>\n",
              "      <td>29.33</td>\n",
              "      <td>0.64</td>\n",
              "    </tr>\n",
              "    <tr>\n",
              "      <th>4</th>\n",
              "      <td>70</td>\n",
              "      <td>52</td>\n",
              "      <td>0</td>\n",
              "      <td>29.26</td>\n",
              "      <td>0.54</td>\n",
              "    </tr>\n",
              "  </tbody>\n",
              "</table>\n",
              "</div>"
            ],
            "text/plain": [
              "   Temperature  DewPoint  WindSpeed  Pressure  Humidity\n",
              "0           47        46          0     29.27      0.95\n",
              "1           47        46          0     29.26      0.95\n",
              "2           47        46          0     29.31      0.95\n",
              "3           64        52          0     29.33      0.64\n",
              "4           70        52          0     29.26      0.54"
            ]
          },
          "metadata": {
            "tags": []
          },
          "execution_count": 74
        }
      ]
    },
    {
      "cell_type": "code",
      "metadata": {
        "id": "2IubZmVm-MoI",
        "colab_type": "code",
        "outputId": "8ef13f5a-a01c-4c27-c7bf-e7883e645955",
        "colab": {
          "base_uri": "https://localhost:8080/",
          "height": 282
        }
      },
      "source": [
        "data[['Temperature']].boxplot()"
      ],
      "execution_count": 0,
      "outputs": [
        {
          "output_type": "execute_result",
          "data": {
            "text/plain": [
              "<matplotlib.axes._subplots.AxesSubplot at 0x7f51c8c27940>"
            ]
          },
          "metadata": {
            "tags": []
          },
          "execution_count": 88
        },
        {
          "output_type": "display_data",
          "data": {
            "image/png": "[encoded data removed]",
            "text/plain": [
              "<Figure size 432x288 with 1 Axes>"
            ]
          },
          "metadata": {
            "tags": []
          }
        }
      ]
    },
    {
      "cell_type": "code",
      "metadata": {
        "colab_type": "code",
        "outputId": "991f21b9-1d9f-41b6-fe9a-aff627b29347",
        "id": "eJrltlzh_g-C",
        "colab": {
          "base_uri": "https://localhost:8080/",
          "height": 282
        }
      },
      "source": [
        "data[['DewPoint']].boxplot()"
      ],
      "execution_count": 0,
      "outputs": [
        {
          "output_type": "execute_result",
          "data": {
            "text/plain": [
              "<matplotlib.axes._subplots.AxesSubplot at 0x7f51c8c97fd0>"
            ]
          },
          "metadata": {
            "tags": []
          },
          "execution_count": 87
        },
        {
          "output_type": "display_data",
          "data": {
            "image/png": "[encoded data removed]",
            "text/plain": [
              "<Figure size 432x288 with 1 Axes>"
            ]
          },
          "metadata": {
            "tags": []
          }
        }
      ]
    },
    {
      "cell_type": "code",
      "metadata": {
        "id": "navB3MSoAHKn",
        "colab_type": "code",
        "outputId": "beec4257-1055-4947-c423-afde1e4f61fc",
        "colab": {
          "base_uri": "https://localhost:8080/",
          "height": 282
        }
      },
      "source": [
        "data[['WindSpeed']].boxplot()"
      ],
      "execution_count": 0,
      "outputs": [
        {
          "output_type": "execute_result",
          "data": {
            "text/plain": [
              "<matplotlib.axes._subplots.AxesSubplot at 0x7f51c8cd7b70>"
            ]
          },
          "metadata": {
            "tags": []
          },
          "execution_count": 86
        },
        {
          "output_type": "display_data",
          "data": {
            "image/png": "[encoded data removed]",
            "text/plain": [
              "<Figure size 432x288 with 1 Axes>"
            ]
          },
          "metadata": {
            "tags": []
          }
        }
      ]
    },
    {
      "cell_type": "code",
      "metadata": {
        "id": "zbW-DKNbAdbW",
        "colab_type": "code",
        "outputId": "39182e1b-7ef0-427a-f67b-e7126775d024",
        "colab": {
          "base_uri": "https://localhost:8080/",
          "height": 282
        }
      },
      "source": [
        "data[['Pressure']].boxplot()"
      ],
      "execution_count": 0,
      "outputs": [
        {
          "output_type": "execute_result",
          "data": {
            "text/plain": [
              "<matplotlib.axes._subplots.AxesSubplot at 0x7f51c8b022e8>"
            ]
          },
          "metadata": {
            "tags": []
          },
          "execution_count": 94
        },
        {
          "output_type": "display_data",
          "data": {
            "image/png": "[encoded data removed]",
            "text/plain": [
              "<Figure size 432x288 with 1 Axes>"
            ]
          },
          "metadata": {
            "tags": []
          }
        }
      ]
    },
    {
      "cell_type": "code",
      "metadata": {
        "id": "c7mfFDNC8K0P",
        "colab_type": "code",
        "outputId": "c3598128-8f98-42d3-ec1e-d98fee287122",
        "colab": {
          "base_uri": "https://localhost:8080/",
          "height": 282
        }
      },
      "source": [
        "data[['Humidity']].boxplot()"
      ],
      "execution_count": 0,
      "outputs": [
        {
          "output_type": "execute_result",
          "data": {
            "text/plain": [
              "<matplotlib.axes._subplots.AxesSubplot at 0x7f51c8ba7b00>"
            ]
          },
          "metadata": {
            "tags": []
          },
          "execution_count": 92
        },
        {
          "output_type": "display_data",
          "data": {
            "image/png": "[encoded data removed]",
            "text/plain": [
              "<Figure size 432x288 with 1 Axes>"
            ]
          },
          "metadata": {
            "tags": []
          }
        }
      ]
    },
    {
      "cell_type": "code",
      "metadata": {
        "id": "jhOh3D1geZsU",
        "colab_type": "code",
        "outputId": "f9ef2678-a426-4bea-b89c-d4f602afe7d4",
        "colab": {
          "base_uri": "https://localhost:8080/",
          "height": 638
        }
      },
      "source": [
        "for i in data.columns:\n",
        "    print(\"{}:\".format(i))\n",
        "    print(\"\\tMax: {}\".format(data[i].max()))\n",
        "    print(\"\\tMin: {}\".format(data[i].min()))\n",
        "    print(\"\\tMean: {}\".format(data[i].mean()))\n",
        "    print(\"\\tMedian: {}\".format(data[i].median()))\n",
        "    print(\"\\t50th percentile: {}\".format(np.percentile(data[i],50)))\n",
        "    print(\"\\tStandard deviation: {}\".format(data[i].std()))"
      ],
      "execution_count": 0,
      "outputs": [
        {
          "output_type": "stream",
          "text": [
            "Temperature:\n",
            "\tMax: 112\n",
            "\tMin: 44\n",
            "\tMean: 76.0371155885472\n",
            "\tMedian: 78.0\n",
            "\t50th percentile: 78.0\n",
            "\tStandard deviation: 16.67303612539185\n",
            "DewPoint:\n",
            "\tMax: 90\n",
            "\tMin: 32\n",
            "\tMean: 60.06309650053022\n",
            "\tMedian: 59.0\n",
            "\t50th percentile: 59.0\n",
            "\tStandard deviation: 10.282727179987665\n",
            "WindSpeed:\n",
            "\tMax: 12\n",
            "\tMin: 0\n",
            "\tMean: 2.4273594909862144\n",
            "\tMedian: 0.0\n",
            "\t50th percentile: 0.0\n",
            "\tStandard deviation: 3.352464412845825\n",
            "Pressure:\n",
            "\tMax: 29.99\n",
            "\tMin: 0.0\n",
            "\tMean: 28.906763925729454\n",
            "\tMedian: 29.06\n",
            "\t50th percentile: nan\n",
            "\tStandard deviation: 1.7406192707860324\n",
            "Humidity:\n",
            "\tMax: 0.99\n",
            "\tMin: 0.0\n",
            "\tMean: 0.6201166489925792\n",
            "\tMedian: 0.62\n",
            "\t50th percentile: 0.62\n",
            "\tStandard deviation: 0.2556068083936732\n"
          ],
          "name": "stdout"
        }
      ]
    },
    {
      "cell_type": "code",
      "metadata": {
        "id": "q2G3u7BnTrm8",
        "colab_type": "code",
        "outputId": "34cc9d36-70b8-4d9b-84de-348caa4f3d96",
        "colab": {
          "base_uri": "https://localhost:8080/",
          "height": 230
        }
      },
      "source": [
        "columns = ['Temperature', 'DewPoint', 'WindSpeed', 'Pressure', 'Humidity']\n",
        "#Removing Outlier final\n",
        "print(\"Before dropping:\")\n",
        "for i in columns:\n",
        "    print(\"{}  size  {}\".format(i, len(data[i])))\n",
        "\n",
        "indxtclr = set()\n",
        "for i in columns:\n",
        "    p25 = np.percentile(data[i],25)\n",
        "    p75 = np.percentile(data[i],75)\n",
        "    iqr = p75 - p25\n",
        "    i1 = p25 - 1.5*iqr\n",
        "    i2 = p75 + 1.5*iqr\n",
        "\n",
        "    indx = 0\n",
        "    for j in data[i]:\n",
        "        if j<i1 or j>i2:\n",
        "            indxtclr.add(indx)\n",
        "        indx = indx + 1\n",
        "\n",
        "indxtclr = list(indxtclr)\n",
        "try:\n",
        "    data.drop(indxtclr, inplace=True)\n",
        "except Exception as e:\n",
        "    print(str(e))\n",
        "\n",
        "print(\"After dropping:\")\n",
        "for i in columns:\n",
        "    print(\"{}  size  {}\".format(i, len(data[i])))"
      ],
      "execution_count": 0,
      "outputs": [
        {
          "output_type": "stream",
          "text": [
            "Before dropping:\n",
            "Temperature  size  1886\n",
            "DewPoint  size  1886\n",
            "WindSpeed  size  1886\n",
            "Pressure  size  1886\n",
            "Humidity  size  1886\n",
            "After dropping:\n",
            "Temperature  size  1886\n",
            "DewPoint  size  1886\n",
            "WindSpeed  size  1886\n",
            "Pressure  size  1886\n",
            "Humidity  size  1886\n"
          ],
          "name": "stdout"
        }
      ]
    },
    {
      "cell_type": "code",
      "metadata": {
        "id": "ss33YFCjU-U1",
        "colab_type": "code",
        "outputId": "cbe0aa43-1854-422d-c36f-5b111d461e5b",
        "colab": {
          "base_uri": "https://localhost:8080/",
          "height": 34
        }
      },
      "source": [
        "itc = data.index[data['Pressure'] > 2500].tolist()\n",
        "print(itc)\n",
        "#data.drop(itc, inplace=True)"
      ],
      "execution_count": 0,
      "outputs": [
        {
          "output_type": "stream",
          "text": [
            "[]\n"
          ],
          "name": "stdout"
        }
      ]
    },
    {
      "cell_type": "code",
      "metadata": {
        "id": "VrLmm6QNBaYE",
        "colab_type": "code",
        "outputId": "f55c2102-ea1c-4fec-9736-e1ced3e886da",
        "colab": {
          "base_uri": "https://localhost:8080/",
          "height": 197
        }
      },
      "source": [
        "data.to_csv(path_or_buf=cpath+\"S_T_Final_data.csv\", index=False)\n",
        "data.head()"
      ],
      "execution_count": 0,
      "outputs": [
        {
          "output_type": "execute_result",
          "data": {
            "text/html": [
              "<div>\n",
              "<style scoped>\n",
              "    .dataframe tbody tr th:only-of-type {\n",
              "        vertical-align: middle;\n",
              "    }\n",
              "\n",
              "    .dataframe tbody tr th {\n",
              "        vertical-align: top;\n",
              "    }\n",
              "\n",
              "    .dataframe thead th {\n",
              "        text-align: right;\n",
              "    }\n",
              "</style>\n",
              "<table border=\"1\" class=\"dataframe\">\n",
              "  <thead>\n",
              "    <tr style=\"text-align: right;\">\n",
              "      <th></th>\n",
              "      <th>Temperature</th>\n",
              "      <th>DewPoint</th>\n",
              "      <th>WindSpeed</th>\n",
              "      <th>Pressure</th>\n",
              "      <th>Humidity</th>\n",
              "    </tr>\n",
              "  </thead>\n",
              "  <tbody>\n",
              "    <tr>\n",
              "      <th>0</th>\n",
              "      <td>47</td>\n",
              "      <td>46</td>\n",
              "      <td>0</td>\n",
              "      <td>29.27</td>\n",
              "      <td>0.95</td>\n",
              "    </tr>\n",
              "    <tr>\n",
              "      <th>1</th>\n",
              "      <td>47</td>\n",
              "      <td>46</td>\n",
              "      <td>0</td>\n",
              "      <td>29.26</td>\n",
              "      <td>0.95</td>\n",
              "    </tr>\n",
              "    <tr>\n",
              "      <th>2</th>\n",
              "      <td>47</td>\n",
              "      <td>46</td>\n",
              "      <td>0</td>\n",
              "      <td>29.31</td>\n",
              "      <td>0.95</td>\n",
              "    </tr>\n",
              "    <tr>\n",
              "      <th>3</th>\n",
              "      <td>64</td>\n",
              "      <td>52</td>\n",
              "      <td>0</td>\n",
              "      <td>29.33</td>\n",
              "      <td>0.64</td>\n",
              "    </tr>\n",
              "    <tr>\n",
              "      <th>4</th>\n",
              "      <td>70</td>\n",
              "      <td>52</td>\n",
              "      <td>0</td>\n",
              "      <td>29.26</td>\n",
              "      <td>0.54</td>\n",
              "    </tr>\n",
              "  </tbody>\n",
              "</table>\n",
              "</div>"
            ],
            "text/plain": [
              "   Temperature  DewPoint  WindSpeed  Pressure  Humidity\n",
              "0           47        46          0     29.27      0.95\n",
              "1           47        46          0     29.26      0.95\n",
              "2           47        46          0     29.31      0.95\n",
              "3           64        52          0     29.33      0.64\n",
              "4           70        52          0     29.26      0.54"
            ]
          },
          "metadata": {
            "tags": []
          },
          "execution_count": 91
        }
      ]
    }
  ]
}